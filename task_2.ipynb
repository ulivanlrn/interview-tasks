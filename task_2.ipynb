{
 "cells": [
  {
   "cell_type": "markdown",
   "id": "a8322fd9",
   "metadata": {},
   "source": [
    "### The subscriber wants to optimize his communication costs by changing his current tariff plan. Three cellular operators sent their proposals: descriptions of all tariff plans were aggregated into a single document (tariff_plans.docx). There is also a download (Исходящие вызовы абонента.xlsx) of outgoing calls from a subscriber for the last 6 months.\n",
    "##### It is necessary to investigate the nature of the subscriber’s outgoing calls and offer the optimal tariff, justifying your recommendations with analytical calculations."
   ]
  },
  {
   "cell_type": "code",
   "execution_count": 979,
   "id": "04bbe1be",
   "metadata": {},
   "outputs": [],
   "source": [
    "import pandas as pd\n",
    "import numpy as np\n",
    "from datetime import datetime, date, time\n",
    "from dateutil.parser import parse"
   ]
  },
  {
   "cell_type": "code",
   "execution_count": 980,
   "id": "1d3ec052",
   "metadata": {},
   "outputs": [],
   "source": [
    "ymd = lambda x: str(parse(x).date())      #format year-month-day\n",
    "ym = lambda x: parse(x).strftime('%Y-%m') #format year-month\n",
    "round_func = lambda x: round(x, 2)        #rounding"
   ]
  },
  {
   "cell_type": "code",
   "execution_count": 981,
   "id": "58ad9609",
   "metadata": {},
   "outputs": [],
   "source": [
    "def to_minutes(x):\n",
    "    time = parse(x).time()\n",
    "    return time.minute + 1\n",
    "def to_seconds(x):\n",
    "    time = parse(x).time()\n",
    "    seconds = time.hour*3600+time.minute*60 + time.second\n",
    "    return seconds"
   ]
  },
  {
   "cell_type": "code",
   "execution_count": 982,
   "id": "6c1475f6",
   "metadata": {},
   "outputs": [],
   "source": [
    "def f_5(x):\n",
    "    if x>5:\n",
    "        return 5\n",
    "    return x\n",
    "def f_8(x):\n",
    "    if x>8:\n",
    "        return 8\n",
    "    return x\n",
    "def f_25(x):\n",
    "    if x>25:\n",
    "        return 25\n",
    "    return x"
   ]
  },
  {
   "cell_type": "code",
   "execution_count": 983,
   "id": "3fc4709d",
   "metadata": {},
   "outputs": [],
   "source": [
    "df = pd.read_excel('Исходящие вызовы абонента.xlsx', engine='openpyxl')"
   ]
  },
  {
   "cell_type": "code",
   "execution_count": 984,
   "id": "a89ae81e",
   "metadata": {},
   "outputs": [],
   "source": [
    "df = df.rename(columns={'Дата звонка':'date', 'Длительность разговора':'length',\n",
    "                                  'Оператор связи вызываемого абонента':'service'})"
   ]
  },
  {
   "cell_type": "markdown",
   "id": "0c17ced4",
   "metadata": {},
   "source": [
    "## MTS"
   ]
  },
  {
   "cell_type": "code",
   "execution_count": 985,
   "id": "4ae7167b",
   "metadata": {},
   "outputs": [
    {
     "data": {
      "text/html": [
       "<div>\n",
       "<style scoped>\n",
       "    .dataframe tbody tr th:only-of-type {\n",
       "        vertical-align: middle;\n",
       "    }\n",
       "\n",
       "    .dataframe tbody tr th {\n",
       "        vertical-align: top;\n",
       "    }\n",
       "\n",
       "    .dataframe thead th {\n",
       "        text-align: right;\n",
       "    }\n",
       "</style>\n",
       "<table border=\"1\" class=\"dataframe\">\n",
       "  <thead>\n",
       "    <tr style=\"text-align: right;\">\n",
       "      <th></th>\n",
       "      <th>date</th>\n",
       "      <th>length</th>\n",
       "    </tr>\n",
       "  </thead>\n",
       "  <tbody>\n",
       "    <tr>\n",
       "      <th>0</th>\n",
       "      <td>15.12.2010 10:50:54</td>\n",
       "      <td>00:01:49</td>\n",
       "    </tr>\n",
       "    <tr>\n",
       "      <th>1</th>\n",
       "      <td>15.12.2010 11:50:42</td>\n",
       "      <td>00:00:57</td>\n",
       "    </tr>\n",
       "    <tr>\n",
       "      <th>2</th>\n",
       "      <td>30.11.2010 16:39:34</td>\n",
       "      <td>00:00:55</td>\n",
       "    </tr>\n",
       "    <tr>\n",
       "      <th>3</th>\n",
       "      <td>30.11.2010 16:39:34</td>\n",
       "      <td>00:00:55</td>\n",
       "    </tr>\n",
       "    <tr>\n",
       "      <th>4</th>\n",
       "      <td>01.12.2010 09:49:09</td>\n",
       "      <td>00:06:47</td>\n",
       "    </tr>\n",
       "  </tbody>\n",
       "</table>\n",
       "</div>"
      ],
      "text/plain": [
       "                  date    length\n",
       "0  15.12.2010 10:50:54  00:01:49\n",
       "1  15.12.2010 11:50:42  00:00:57\n",
       "2  30.11.2010 16:39:34  00:00:55\n",
       "3  30.11.2010 16:39:34  00:00:55\n",
       "4  01.12.2010 09:49:09  00:06:47"
      ]
     },
     "execution_count": 985,
     "metadata": {},
     "output_type": "execute_result"
    }
   ],
   "source": [
    "mts = df[~(df.service == 'мтс')].copy()\n",
    "mts = mts.drop('service', axis=1)\n",
    "mts.head()"
   ]
  },
  {
   "cell_type": "code",
   "execution_count": 986,
   "id": "13f982ce",
   "metadata": {},
   "outputs": [],
   "source": [
    "mts.date = mts['date'].map(ymd)"
   ]
  },
  {
   "cell_type": "code",
   "execution_count": 987,
   "id": "5d5c8802",
   "metadata": {},
   "outputs": [],
   "source": [
    "mts.length = mts['length'].map(to_seconds)"
   ]
  },
  {
   "cell_type": "code",
   "execution_count": 988,
   "id": "01caa33a",
   "metadata": {},
   "outputs": [
    {
     "data": {
      "text/html": [
       "<div>\n",
       "<style scoped>\n",
       "    .dataframe tbody tr th:only-of-type {\n",
       "        vertical-align: middle;\n",
       "    }\n",
       "\n",
       "    .dataframe tbody tr th {\n",
       "        vertical-align: top;\n",
       "    }\n",
       "\n",
       "    .dataframe thead th {\n",
       "        text-align: right;\n",
       "    }\n",
       "</style>\n",
       "<table border=\"1\" class=\"dataframe\">\n",
       "  <thead>\n",
       "    <tr style=\"text-align: right;\">\n",
       "      <th></th>\n",
       "      <th>length</th>\n",
       "    </tr>\n",
       "    <tr>\n",
       "      <th>date</th>\n",
       "      <th></th>\n",
       "    </tr>\n",
       "  </thead>\n",
       "  <tbody>\n",
       "    <tr>\n",
       "      <th>2010-01-07</th>\n",
       "      <td>75</td>\n",
       "    </tr>\n",
       "    <tr>\n",
       "      <th>2010-01-09</th>\n",
       "      <td>622</td>\n",
       "    </tr>\n",
       "    <tr>\n",
       "      <th>2010-01-10</th>\n",
       "      <td>843</td>\n",
       "    </tr>\n",
       "    <tr>\n",
       "      <th>2010-01-11</th>\n",
       "      <td>621</td>\n",
       "    </tr>\n",
       "    <tr>\n",
       "      <th>2010-01-12</th>\n",
       "      <td>2232</td>\n",
       "    </tr>\n",
       "  </tbody>\n",
       "</table>\n",
       "</div>"
      ],
      "text/plain": [
       "            length\n",
       "date              \n",
       "2010-01-07      75\n",
       "2010-01-09     622\n",
       "2010-01-10     843\n",
       "2010-01-11     621\n",
       "2010-01-12    2232"
      ]
     },
     "execution_count": 988,
     "metadata": {},
     "output_type": "execute_result"
    }
   ],
   "source": [
    "mts = mts.groupby('date').sum()\n",
    "mts.head()"
   ]
  },
  {
   "cell_type": "code",
   "execution_count": 989,
   "id": "6274bb74",
   "metadata": {},
   "outputs": [],
   "source": [
    "mts.length = mts.length/60"
   ]
  },
  {
   "cell_type": "code",
   "execution_count": 990,
   "id": "ff1f1ec6",
   "metadata": {},
   "outputs": [],
   "source": [
    "mts['0.90'] = mts['length'].map(f_5)"
   ]
  },
  {
   "cell_type": "code",
   "execution_count": 991,
   "id": "a288629f",
   "metadata": {},
   "outputs": [],
   "source": [
    "mts['0.05'] = mts.length - mts['0.90']"
   ]
  },
  {
   "cell_type": "code",
   "execution_count": 992,
   "id": "683f021f",
   "metadata": {},
   "outputs": [
    {
     "data": {
      "text/html": [
       "<div>\n",
       "<style scoped>\n",
       "    .dataframe tbody tr th:only-of-type {\n",
       "        vertical-align: middle;\n",
       "    }\n",
       "\n",
       "    .dataframe tbody tr th {\n",
       "        vertical-align: top;\n",
       "    }\n",
       "\n",
       "    .dataframe thead th {\n",
       "        text-align: right;\n",
       "    }\n",
       "</style>\n",
       "<table border=\"1\" class=\"dataframe\">\n",
       "  <thead>\n",
       "    <tr style=\"text-align: right;\">\n",
       "      <th></th>\n",
       "      <th>length</th>\n",
       "      <th>0.90</th>\n",
       "      <th>0.05</th>\n",
       "    </tr>\n",
       "    <tr>\n",
       "      <th>date</th>\n",
       "      <th></th>\n",
       "      <th></th>\n",
       "      <th></th>\n",
       "    </tr>\n",
       "  </thead>\n",
       "  <tbody>\n",
       "    <tr>\n",
       "      <th>2010-01-07</th>\n",
       "      <td>1.250000</td>\n",
       "      <td>1.25</td>\n",
       "      <td>0.000000</td>\n",
       "    </tr>\n",
       "    <tr>\n",
       "      <th>2010-01-09</th>\n",
       "      <td>10.366667</td>\n",
       "      <td>5.00</td>\n",
       "      <td>5.366667</td>\n",
       "    </tr>\n",
       "    <tr>\n",
       "      <th>2010-01-10</th>\n",
       "      <td>14.050000</td>\n",
       "      <td>5.00</td>\n",
       "      <td>9.050000</td>\n",
       "    </tr>\n",
       "    <tr>\n",
       "      <th>2010-01-11</th>\n",
       "      <td>10.350000</td>\n",
       "      <td>5.00</td>\n",
       "      <td>5.350000</td>\n",
       "    </tr>\n",
       "    <tr>\n",
       "      <th>2010-01-12</th>\n",
       "      <td>37.200000</td>\n",
       "      <td>5.00</td>\n",
       "      <td>32.200000</td>\n",
       "    </tr>\n",
       "  </tbody>\n",
       "</table>\n",
       "</div>"
      ],
      "text/plain": [
       "               length  0.90       0.05\n",
       "date                                  \n",
       "2010-01-07   1.250000  1.25   0.000000\n",
       "2010-01-09  10.366667  5.00   5.366667\n",
       "2010-01-10  14.050000  5.00   9.050000\n",
       "2010-01-11  10.350000  5.00   5.350000\n",
       "2010-01-12  37.200000  5.00  32.200000"
      ]
     },
     "execution_count": 992,
     "metadata": {},
     "output_type": "execute_result"
    }
   ],
   "source": [
    "mts.head()"
   ]
  },
  {
   "cell_type": "code",
   "execution_count": 993,
   "id": "31e74d43",
   "metadata": {},
   "outputs": [],
   "source": [
    "mts['0.05'] = mts['0.05'].map(f_25)"
   ]
  },
  {
   "cell_type": "code",
   "execution_count": 994,
   "id": "a652be21",
   "metadata": {},
   "outputs": [],
   "source": [
    "mts['0.90'] = mts['0.90'] + (mts.length - mts['0.90'] - mts['0.05'])"
   ]
  },
  {
   "cell_type": "code",
   "execution_count": 995,
   "id": "6d763eb3",
   "metadata": {},
   "outputs": [
    {
     "data": {
      "text/html": [
       "<div>\n",
       "<style scoped>\n",
       "    .dataframe tbody tr th:only-of-type {\n",
       "        vertical-align: middle;\n",
       "    }\n",
       "\n",
       "    .dataframe tbody tr th {\n",
       "        vertical-align: top;\n",
       "    }\n",
       "\n",
       "    .dataframe thead th {\n",
       "        text-align: right;\n",
       "    }\n",
       "</style>\n",
       "<table border=\"1\" class=\"dataframe\">\n",
       "  <thead>\n",
       "    <tr style=\"text-align: right;\">\n",
       "      <th></th>\n",
       "      <th>length</th>\n",
       "      <th>0.90</th>\n",
       "      <th>0.05</th>\n",
       "    </tr>\n",
       "    <tr>\n",
       "      <th>date</th>\n",
       "      <th></th>\n",
       "      <th></th>\n",
       "      <th></th>\n",
       "    </tr>\n",
       "  </thead>\n",
       "  <tbody>\n",
       "    <tr>\n",
       "      <th>2010-01-07</th>\n",
       "      <td>1.250000</td>\n",
       "      <td>1.25</td>\n",
       "      <td>0.000000</td>\n",
       "    </tr>\n",
       "    <tr>\n",
       "      <th>2010-01-09</th>\n",
       "      <td>10.366667</td>\n",
       "      <td>5.00</td>\n",
       "      <td>5.366667</td>\n",
       "    </tr>\n",
       "    <tr>\n",
       "      <th>2010-01-10</th>\n",
       "      <td>14.050000</td>\n",
       "      <td>5.00</td>\n",
       "      <td>9.050000</td>\n",
       "    </tr>\n",
       "    <tr>\n",
       "      <th>2010-01-11</th>\n",
       "      <td>10.350000</td>\n",
       "      <td>5.00</td>\n",
       "      <td>5.350000</td>\n",
       "    </tr>\n",
       "    <tr>\n",
       "      <th>2010-01-12</th>\n",
       "      <td>37.200000</td>\n",
       "      <td>12.20</td>\n",
       "      <td>25.000000</td>\n",
       "    </tr>\n",
       "  </tbody>\n",
       "</table>\n",
       "</div>"
      ],
      "text/plain": [
       "               length   0.90       0.05\n",
       "date                                   \n",
       "2010-01-07   1.250000   1.25   0.000000\n",
       "2010-01-09  10.366667   5.00   5.366667\n",
       "2010-01-10  14.050000   5.00   9.050000\n",
       "2010-01-11  10.350000   5.00   5.350000\n",
       "2010-01-12  37.200000  12.20  25.000000"
      ]
     },
     "execution_count": 995,
     "metadata": {},
     "output_type": "execute_result"
    }
   ],
   "source": [
    "mts.head()"
   ]
  },
  {
   "cell_type": "code",
   "execution_count": 996,
   "id": "9419be5a",
   "metadata": {},
   "outputs": [],
   "source": [
    "mts = mts.drop('length', axis=1)"
   ]
  },
  {
   "cell_type": "code",
   "execution_count": 997,
   "id": "498cba9d",
   "metadata": {},
   "outputs": [],
   "source": [
    "mts['mts'] = 0.9*mts['0.90'] + 0.05*mts['0.05']\n",
    "mts = mts.drop(['0.90', '0.05'], axis=1)"
   ]
  },
  {
   "cell_type": "code",
   "execution_count": 998,
   "id": "d16c440b",
   "metadata": {},
   "outputs": [],
   "source": [
    "mts = mts.reset_index()"
   ]
  },
  {
   "cell_type": "code",
   "execution_count": 999,
   "id": "00ac4989",
   "metadata": {},
   "outputs": [
    {
     "data": {
      "text/html": [
       "<div>\n",
       "<style scoped>\n",
       "    .dataframe tbody tr th:only-of-type {\n",
       "        vertical-align: middle;\n",
       "    }\n",
       "\n",
       "    .dataframe tbody tr th {\n",
       "        vertical-align: top;\n",
       "    }\n",
       "\n",
       "    .dataframe thead th {\n",
       "        text-align: right;\n",
       "    }\n",
       "</style>\n",
       "<table border=\"1\" class=\"dataframe\">\n",
       "  <thead>\n",
       "    <tr style=\"text-align: right;\">\n",
       "      <th></th>\n",
       "      <th>date</th>\n",
       "      <th>mts</th>\n",
       "    </tr>\n",
       "  </thead>\n",
       "  <tbody>\n",
       "    <tr>\n",
       "      <th>0</th>\n",
       "      <td>2010-01-07</td>\n",
       "      <td>1.125000</td>\n",
       "    </tr>\n",
       "    <tr>\n",
       "      <th>1</th>\n",
       "      <td>2010-01-09</td>\n",
       "      <td>4.768333</td>\n",
       "    </tr>\n",
       "    <tr>\n",
       "      <th>2</th>\n",
       "      <td>2010-01-10</td>\n",
       "      <td>4.952500</td>\n",
       "    </tr>\n",
       "    <tr>\n",
       "      <th>3</th>\n",
       "      <td>2010-01-11</td>\n",
       "      <td>4.767500</td>\n",
       "    </tr>\n",
       "    <tr>\n",
       "      <th>4</th>\n",
       "      <td>2010-01-12</td>\n",
       "      <td>12.230000</td>\n",
       "    </tr>\n",
       "  </tbody>\n",
       "</table>\n",
       "</div>"
      ],
      "text/plain": [
       "         date        mts\n",
       "0  2010-01-07   1.125000\n",
       "1  2010-01-09   4.768333\n",
       "2  2010-01-10   4.952500\n",
       "3  2010-01-11   4.767500\n",
       "4  2010-01-12  12.230000"
      ]
     },
     "execution_count": 999,
     "metadata": {},
     "output_type": "execute_result"
    }
   ],
   "source": [
    "mts.head()"
   ]
  },
  {
   "cell_type": "code",
   "execution_count": 1000,
   "id": "a0894801",
   "metadata": {},
   "outputs": [],
   "source": [
    "mts.date = mts['date'].map(ym)"
   ]
  },
  {
   "cell_type": "code",
   "execution_count": 1001,
   "id": "8ae92b3c",
   "metadata": {},
   "outputs": [],
   "source": [
    "mts.mts = mts['mts'].map(round_func)"
   ]
  },
  {
   "cell_type": "code",
   "execution_count": 1002,
   "id": "fad5a76d",
   "metadata": {},
   "outputs": [],
   "source": [
    "mts = mts.groupby('date').sum()\n",
    "final_df = mts.sort_index(ascending = False).copy()"
   ]
  },
  {
   "cell_type": "markdown",
   "id": "1d50fc32",
   "metadata": {},
   "source": [
    "## Megafon"
   ]
  },
  {
   "cell_type": "code",
   "execution_count": 1003,
   "id": "1f30eade",
   "metadata": {},
   "outputs": [
    {
     "data": {
      "text/html": [
       "<div>\n",
       "<style scoped>\n",
       "    .dataframe tbody tr th:only-of-type {\n",
       "        vertical-align: middle;\n",
       "    }\n",
       "\n",
       "    .dataframe tbody tr th {\n",
       "        vertical-align: top;\n",
       "    }\n",
       "\n",
       "    .dataframe thead th {\n",
       "        text-align: right;\n",
       "    }\n",
       "</style>\n",
       "<table border=\"1\" class=\"dataframe\">\n",
       "  <thead>\n",
       "    <tr style=\"text-align: right;\">\n",
       "      <th></th>\n",
       "      <th>date</th>\n",
       "      <th>length</th>\n",
       "    </tr>\n",
       "  </thead>\n",
       "  <tbody>\n",
       "    <tr>\n",
       "      <th>0</th>\n",
       "      <td>15.12.2010 10:50:54</td>\n",
       "      <td>00:01:49</td>\n",
       "    </tr>\n",
       "    <tr>\n",
       "      <th>1</th>\n",
       "      <td>15.12.2010 11:50:42</td>\n",
       "      <td>00:00:57</td>\n",
       "    </tr>\n",
       "    <tr>\n",
       "      <th>2</th>\n",
       "      <td>30.11.2010 16:39:34</td>\n",
       "      <td>00:00:55</td>\n",
       "    </tr>\n",
       "    <tr>\n",
       "      <th>3</th>\n",
       "      <td>30.11.2010 16:39:34</td>\n",
       "      <td>00:00:55</td>\n",
       "    </tr>\n",
       "    <tr>\n",
       "      <th>4</th>\n",
       "      <td>01.12.2010 09:49:09</td>\n",
       "      <td>00:06:47</td>\n",
       "    </tr>\n",
       "  </tbody>\n",
       "</table>\n",
       "</div>"
      ],
      "text/plain": [
       "                  date    length\n",
       "0  15.12.2010 10:50:54  00:01:49\n",
       "1  15.12.2010 11:50:42  00:00:57\n",
       "2  30.11.2010 16:39:34  00:00:55\n",
       "3  30.11.2010 16:39:34  00:00:55\n",
       "4  01.12.2010 09:49:09  00:06:47"
      ]
     },
     "execution_count": 1003,
     "metadata": {},
     "output_type": "execute_result"
    }
   ],
   "source": [
    "megafon = df.copy()\n",
    "megafon = megafon.drop('service', axis=1)\n",
    "megafon.head()"
   ]
  },
  {
   "cell_type": "code",
   "execution_count": 1004,
   "id": "f8eeb1ce",
   "metadata": {},
   "outputs": [],
   "source": [
    "megafon.date = megafon['date'].map(ym)"
   ]
  },
  {
   "cell_type": "code",
   "execution_count": 1005,
   "id": "34b13294",
   "metadata": {},
   "outputs": [],
   "source": [
    "megafon.length = megafon['length'].map(to_minutes)"
   ]
  },
  {
   "cell_type": "code",
   "execution_count": 1006,
   "id": "3fd07cce",
   "metadata": {},
   "outputs": [],
   "source": [
    "megafon['rub'] = pd.Series(np.ones(megafon.shape[0]))"
   ]
  },
  {
   "cell_type": "code",
   "execution_count": 1007,
   "id": "2dda44e1",
   "metadata": {},
   "outputs": [],
   "source": [
    "megafon['0.33'] = megafon.length - megafon.rub"
   ]
  },
  {
   "cell_type": "code",
   "execution_count": 1008,
   "id": "701a80cb",
   "metadata": {},
   "outputs": [],
   "source": [
    "megafon['megafon'] = 1*megafon.rub + 0.33*megafon['0.33']"
   ]
  },
  {
   "cell_type": "code",
   "execution_count": 1009,
   "id": "894a27b7",
   "metadata": {},
   "outputs": [],
   "source": [
    "megafon = megafon.drop(['length', 'rub', '0.33'], axis = 1)"
   ]
  },
  {
   "cell_type": "code",
   "execution_count": 1010,
   "id": "dd88aee8",
   "metadata": {},
   "outputs": [],
   "source": [
    "megafon = megafon.groupby('date').sum()"
   ]
  },
  {
   "cell_type": "code",
   "execution_count": 1011,
   "id": "4b5319e4",
   "metadata": {},
   "outputs": [],
   "source": [
    "final_df = final_df.join(megafon)"
   ]
  },
  {
   "cell_type": "markdown",
   "id": "30edddb2",
   "metadata": {},
   "source": [
    "## Beeline(1)"
   ]
  },
  {
   "cell_type": "code",
   "execution_count": 1012,
   "id": "acabbcf7",
   "metadata": {},
   "outputs": [
    {
     "data": {
      "text/html": [
       "<div>\n",
       "<style scoped>\n",
       "    .dataframe tbody tr th:only-of-type {\n",
       "        vertical-align: middle;\n",
       "    }\n",
       "\n",
       "    .dataframe tbody tr th {\n",
       "        vertical-align: top;\n",
       "    }\n",
       "\n",
       "    .dataframe thead th {\n",
       "        text-align: right;\n",
       "    }\n",
       "</style>\n",
       "<table border=\"1\" class=\"dataframe\">\n",
       "  <thead>\n",
       "    <tr style=\"text-align: right;\">\n",
       "      <th></th>\n",
       "      <th>date</th>\n",
       "      <th>length</th>\n",
       "    </tr>\n",
       "  </thead>\n",
       "  <tbody>\n",
       "    <tr>\n",
       "      <th>0</th>\n",
       "      <td>15.12.2010 10:50:54</td>\n",
       "      <td>00:01:49</td>\n",
       "    </tr>\n",
       "    <tr>\n",
       "      <th>1</th>\n",
       "      <td>15.12.2010 11:50:42</td>\n",
       "      <td>00:00:57</td>\n",
       "    </tr>\n",
       "    <tr>\n",
       "      <th>2</th>\n",
       "      <td>30.11.2010 16:39:34</td>\n",
       "      <td>00:00:55</td>\n",
       "    </tr>\n",
       "    <tr>\n",
       "      <th>3</th>\n",
       "      <td>30.11.2010 16:39:34</td>\n",
       "      <td>00:00:55</td>\n",
       "    </tr>\n",
       "    <tr>\n",
       "      <th>4</th>\n",
       "      <td>01.12.2010 09:49:09</td>\n",
       "      <td>00:06:47</td>\n",
       "    </tr>\n",
       "  </tbody>\n",
       "</table>\n",
       "</div>"
      ],
      "text/plain": [
       "                  date    length\n",
       "0  15.12.2010 10:50:54  00:01:49\n",
       "1  15.12.2010 11:50:42  00:00:57\n",
       "2  30.11.2010 16:39:34  00:00:55\n",
       "3  30.11.2010 16:39:34  00:00:55\n",
       "4  01.12.2010 09:49:09  00:06:47"
      ]
     },
     "execution_count": 1012,
     "metadata": {},
     "output_type": "execute_result"
    }
   ],
   "source": [
    "bilain_1 = df.copy()\n",
    "bilain_1 = bilain_1.drop('service', axis=1)\n",
    "bilain_1.head()"
   ]
  },
  {
   "cell_type": "code",
   "execution_count": 1013,
   "id": "6532660e",
   "metadata": {},
   "outputs": [],
   "source": [
    "bilain_1.date = bilain_1['date'].map(ym)\n",
    "bilain_1.length = bilain_1['length'].map(to_minutes)"
   ]
  },
  {
   "cell_type": "code",
   "execution_count": 1014,
   "id": "07ff7a59",
   "metadata": {},
   "outputs": [],
   "source": [
    "bilain_1['1.50'] = pd.Series(np.ones(bilain_1.shape[0]))"
   ]
  },
  {
   "cell_type": "code",
   "execution_count": 1015,
   "id": "340e3151",
   "metadata": {},
   "outputs": [],
   "source": [
    "bilain_1['0.50'] = bilain_1.length - bilain_1['1.50']"
   ]
  },
  {
   "cell_type": "code",
   "execution_count": 1016,
   "id": "f3c9a9be",
   "metadata": {},
   "outputs": [],
   "source": [
    "bilain_1['0.50'] = bilain_1['0.50'].map(f_8)"
   ]
  },
  {
   "cell_type": "code",
   "execution_count": 1017,
   "id": "ded4502b",
   "metadata": {},
   "outputs": [],
   "source": [
    "bilain_1['1.00'] = bilain_1.length - bilain_1['1.50'] - bilain_1['0.50']"
   ]
  },
  {
   "cell_type": "code",
   "execution_count": 1018,
   "id": "1e7fa236",
   "metadata": {},
   "outputs": [],
   "source": [
    "bilain_1['bilain_1'] = 1.5*bilain_1['1.50'] + 0.5*bilain_1['0.50'] + bilain_1['1.00']"
   ]
  },
  {
   "cell_type": "code",
   "execution_count": 1019,
   "id": "0ec434dd",
   "metadata": {},
   "outputs": [],
   "source": [
    "bilain_1 = bilain_1.drop(['length', '1.50', '0.50', '1.00'], axis = 1)"
   ]
  },
  {
   "cell_type": "code",
   "execution_count": 1020,
   "id": "e9fecbe2",
   "metadata": {},
   "outputs": [],
   "source": [
    "bilain_1 = bilain_1.groupby('date').sum()"
   ]
  },
  {
   "cell_type": "code",
   "execution_count": 1021,
   "id": "56f01687",
   "metadata": {},
   "outputs": [],
   "source": [
    "final_df = final_df.join(bilain_1)"
   ]
  },
  {
   "cell_type": "markdown",
   "id": "6436742c",
   "metadata": {},
   "source": [
    "## Beeline(2)"
   ]
  },
  {
   "cell_type": "code",
   "execution_count": 1022,
   "id": "173b65a7",
   "metadata": {},
   "outputs": [
    {
     "data": {
      "text/html": [
       "<div>\n",
       "<style scoped>\n",
       "    .dataframe tbody tr th:only-of-type {\n",
       "        vertical-align: middle;\n",
       "    }\n",
       "\n",
       "    .dataframe tbody tr th {\n",
       "        vertical-align: top;\n",
       "    }\n",
       "\n",
       "    .dataframe thead th {\n",
       "        text-align: right;\n",
       "    }\n",
       "</style>\n",
       "<table border=\"1\" class=\"dataframe\">\n",
       "  <thead>\n",
       "    <tr style=\"text-align: right;\">\n",
       "      <th></th>\n",
       "      <th>date</th>\n",
       "      <th>length</th>\n",
       "    </tr>\n",
       "  </thead>\n",
       "  <tbody>\n",
       "    <tr>\n",
       "      <th>0</th>\n",
       "      <td>15.12.2010 10:50:54</td>\n",
       "      <td>00:01:49</td>\n",
       "    </tr>\n",
       "    <tr>\n",
       "      <th>1</th>\n",
       "      <td>15.12.2010 11:50:42</td>\n",
       "      <td>00:00:57</td>\n",
       "    </tr>\n",
       "    <tr>\n",
       "      <th>2</th>\n",
       "      <td>30.11.2010 16:39:34</td>\n",
       "      <td>00:00:55</td>\n",
       "    </tr>\n",
       "    <tr>\n",
       "      <th>3</th>\n",
       "      <td>30.11.2010 16:39:34</td>\n",
       "      <td>00:00:55</td>\n",
       "    </tr>\n",
       "    <tr>\n",
       "      <th>4</th>\n",
       "      <td>01.12.2010 09:49:09</td>\n",
       "      <td>00:06:47</td>\n",
       "    </tr>\n",
       "  </tbody>\n",
       "</table>\n",
       "</div>"
      ],
      "text/plain": [
       "                  date    length\n",
       "0  15.12.2010 10:50:54  00:01:49\n",
       "1  15.12.2010 11:50:42  00:00:57\n",
       "2  30.11.2010 16:39:34  00:00:55\n",
       "3  30.11.2010 16:39:34  00:00:55\n",
       "4  01.12.2010 09:49:09  00:06:47"
      ]
     },
     "execution_count": 1022,
     "metadata": {},
     "output_type": "execute_result"
    }
   ],
   "source": [
    "bilain_2 = df.copy()\n",
    "bilain_2 = bilain_2.drop('service', axis=1)\n",
    "bilain_2.head()"
   ]
  },
  {
   "cell_type": "code",
   "execution_count": 1023,
   "id": "7ed0400d",
   "metadata": {},
   "outputs": [],
   "source": [
    "bilain_2.date = bilain_2['date'].map(ymd)\n",
    "bilain_2.length = bilain_2['length'].map(to_seconds)"
   ]
  },
  {
   "cell_type": "code",
   "execution_count": 1024,
   "id": "a97e2112",
   "metadata": {},
   "outputs": [],
   "source": [
    "bilain_2 = bilain_2.groupby('date').sum()"
   ]
  },
  {
   "cell_type": "code",
   "execution_count": 1025,
   "id": "e341c259",
   "metadata": {},
   "outputs": [],
   "source": [
    "bilain_2.length = bilain_2.length/60"
   ]
  },
  {
   "cell_type": "code",
   "execution_count": 1026,
   "id": "abf6daae",
   "metadata": {},
   "outputs": [],
   "source": [
    "bilain_2['3.95'] = bilain_2['length'].map(f_5)"
   ]
  },
  {
   "cell_type": "code",
   "execution_count": 1027,
   "id": "f0a60d0b",
   "metadata": {},
   "outputs": [],
   "source": [
    "bilain_2['0.40'] = bilain_2['length'] - bilain_2['3.95']"
   ]
  },
  {
   "cell_type": "code",
   "execution_count": 1028,
   "id": "2ba4cbda",
   "metadata": {},
   "outputs": [],
   "source": [
    "bilain_2['bilain_2'] = bilain_2['3.95']*3.95 + bilain_2['0.40']*0.4"
   ]
  },
  {
   "cell_type": "code",
   "execution_count": 1029,
   "id": "dbc1329b",
   "metadata": {},
   "outputs": [],
   "source": [
    "bilain_2 = bilain_2.reset_index()"
   ]
  },
  {
   "cell_type": "code",
   "execution_count": 1030,
   "id": "2fdf23c9",
   "metadata": {},
   "outputs": [],
   "source": [
    "bilain_2.date = bilain_2['date'].map(ym)"
   ]
  },
  {
   "cell_type": "code",
   "execution_count": 1031,
   "id": "4140d0b9",
   "metadata": {},
   "outputs": [],
   "source": [
    "bilain_2 = bilain_2.drop(['length', '3.95', '0.40'], axis = 1)"
   ]
  },
  {
   "cell_type": "code",
   "execution_count": 1032,
   "id": "2207a55b",
   "metadata": {},
   "outputs": [],
   "source": [
    "bilain_2 = bilain_2.groupby('date').sum()"
   ]
  },
  {
   "cell_type": "code",
   "execution_count": 1033,
   "id": "6a61a6e4",
   "metadata": {},
   "outputs": [],
   "source": [
    "final_df = final_df.join(bilain_2)"
   ]
  },
  {
   "cell_type": "code",
   "execution_count": 1034,
   "id": "2b49c60c",
   "metadata": {
    "scrolled": false
   },
   "outputs": [
    {
     "data": {
      "text/html": [
       "<div>\n",
       "<style scoped>\n",
       "    .dataframe tbody tr th:only-of-type {\n",
       "        vertical-align: middle;\n",
       "    }\n",
       "\n",
       "    .dataframe tbody tr th {\n",
       "        vertical-align: top;\n",
       "    }\n",
       "\n",
       "    .dataframe thead th {\n",
       "        text-align: right;\n",
       "    }\n",
       "</style>\n",
       "<table border=\"1\" class=\"dataframe\">\n",
       "  <thead>\n",
       "    <tr style=\"text-align: right;\">\n",
       "      <th></th>\n",
       "      <th>mts</th>\n",
       "      <th>megafon</th>\n",
       "      <th>bilain_1</th>\n",
       "      <th>bilain_2</th>\n",
       "    </tr>\n",
       "    <tr>\n",
       "      <th>date</th>\n",
       "      <th></th>\n",
       "      <th></th>\n",
       "      <th></th>\n",
       "      <th></th>\n",
       "    </tr>\n",
       "  </thead>\n",
       "  <tbody>\n",
       "    <tr>\n",
       "      <th>2010-12</th>\n",
       "      <td>43.24</td>\n",
       "      <td>131.63</td>\n",
       "      <td>201.5</td>\n",
       "      <td>241.130000</td>\n",
       "    </tr>\n",
       "    <tr>\n",
       "      <th>2010-11</th>\n",
       "      <td>189.70</td>\n",
       "      <td>311.74</td>\n",
       "      <td>510.5</td>\n",
       "      <td>564.496667</td>\n",
       "    </tr>\n",
       "    <tr>\n",
       "      <th>2010-10</th>\n",
       "      <td>118.16</td>\n",
       "      <td>377.99</td>\n",
       "      <td>577.5</td>\n",
       "      <td>531.495833</td>\n",
       "    </tr>\n",
       "    <tr>\n",
       "      <th>2010-09</th>\n",
       "      <td>88.48</td>\n",
       "      <td>284.33</td>\n",
       "      <td>428.5</td>\n",
       "      <td>426.518333</td>\n",
       "    </tr>\n",
       "    <tr>\n",
       "      <th>2010-08</th>\n",
       "      <td>80.76</td>\n",
       "      <td>195.44</td>\n",
       "      <td>296.0</td>\n",
       "      <td>318.465000</td>\n",
       "    </tr>\n",
       "    <tr>\n",
       "      <th>2010-07</th>\n",
       "      <td>44.46</td>\n",
       "      <td>136.04</td>\n",
       "      <td>210.5</td>\n",
       "      <td>226.539167</td>\n",
       "    </tr>\n",
       "    <tr>\n",
       "      <th>2010-06</th>\n",
       "      <td>11.82</td>\n",
       "      <td>35.60</td>\n",
       "      <td>53.5</td>\n",
       "      <td>66.645833</td>\n",
       "    </tr>\n",
       "    <tr>\n",
       "      <th>2010-05</th>\n",
       "      <td>11.89</td>\n",
       "      <td>23.97</td>\n",
       "      <td>36.0</td>\n",
       "      <td>55.219167</td>\n",
       "    </tr>\n",
       "    <tr>\n",
       "      <th>2010-04</th>\n",
       "      <td>12.45</td>\n",
       "      <td>42.23</td>\n",
       "      <td>64.0</td>\n",
       "      <td>61.004167</td>\n",
       "    </tr>\n",
       "    <tr>\n",
       "      <th>2010-03</th>\n",
       "      <td>9.09</td>\n",
       "      <td>20.95</td>\n",
       "      <td>31.5</td>\n",
       "      <td>41.762500</td>\n",
       "    </tr>\n",
       "    <tr>\n",
       "      <th>2010-02</th>\n",
       "      <td>29.88</td>\n",
       "      <td>63.47</td>\n",
       "      <td>97.5</td>\n",
       "      <td>115.320000</td>\n",
       "    </tr>\n",
       "    <tr>\n",
       "      <th>2010-01</th>\n",
       "      <td>27.84</td>\n",
       "      <td>82.47</td>\n",
       "      <td>124.0</td>\n",
       "      <td>116.738333</td>\n",
       "    </tr>\n",
       "  </tbody>\n",
       "</table>\n",
       "</div>"
      ],
      "text/plain": [
       "            mts  megafon  bilain_1    bilain_2\n",
       "date                                          \n",
       "2010-12   43.24   131.63     201.5  241.130000\n",
       "2010-11  189.70   311.74     510.5  564.496667\n",
       "2010-10  118.16   377.99     577.5  531.495833\n",
       "2010-09   88.48   284.33     428.5  426.518333\n",
       "2010-08   80.76   195.44     296.0  318.465000\n",
       "2010-07   44.46   136.04     210.5  226.539167\n",
       "2010-06   11.82    35.60      53.5   66.645833\n",
       "2010-05   11.89    23.97      36.0   55.219167\n",
       "2010-04   12.45    42.23      64.0   61.004167\n",
       "2010-03    9.09    20.95      31.5   41.762500\n",
       "2010-02   29.88    63.47      97.5  115.320000\n",
       "2010-01   27.84    82.47     124.0  116.738333"
      ]
     },
     "execution_count": 1034,
     "metadata": {},
     "output_type": "execute_result"
    }
   ],
   "source": [
    "final_df"
   ]
  },
  {
   "cell_type": "markdown",
   "id": "6b0bd66e",
   "metadata": {},
   "source": [
    "### Conclusion: if the subscriber used the MTS tariff, its costs each month would be much lower compared to other tariffs.\n",
    "### Recommended operator: MTS"
   ]
  }
 ],
 "metadata": {
  "kernelspec": {
   "display_name": "Python 3",
   "language": "python",
   "name": "python3"
  },
  "language_info": {
   "codemirror_mode": {
    "name": "ipython",
    "version": 3
   },
   "file_extension": ".py",
   "mimetype": "text/x-python",
   "name": "python",
   "nbconvert_exporter": "python",
   "pygments_lexer": "ipython3",
   "version": "3.8.3"
  }
 },
 "nbformat": 4,
 "nbformat_minor": 5
}
