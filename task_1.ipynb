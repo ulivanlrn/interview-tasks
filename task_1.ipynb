{
 "cells": [
  {
   "cell_type": "markdown",
   "id": "6e5e2cdd",
   "metadata": {},
   "source": [
    "### A company engaged in the wholesale supply of coffee beans requested a monthly sales report. The interest is only in those sales that did not have delivery: their number per month, the percentage of bad reviews, the profitability of such transactions - in terms of sales with and without the client entering a promotional code. There is a download of all sales (Транзакции.csv) since the founding of the company. \n",
    "#### The task is to write code in Python that will carry out the necessary calculations and save the result table into Excel. \n",
    "##### Summary table fields: «Месяц» – «Введен промокод» – «Кол-во транзакций» – «Плохих отзывов, %» - «Доходность, %»."
   ]
  },
  {
   "cell_type": "code",
   "execution_count": 63,
   "id": "aef6be70",
   "metadata": {},
   "outputs": [],
   "source": [
    "import pandas as pd"
   ]
  },
  {
   "cell_type": "code",
   "execution_count": 64,
   "id": "617a49fd",
   "metadata": {},
   "outputs": [
    {
     "data": {
      "text/html": [
       "<div>\n",
       "<style scoped>\n",
       "    .dataframe tbody tr th:only-of-type {\n",
       "        vertical-align: middle;\n",
       "    }\n",
       "\n",
       "    .dataframe tbody tr th {\n",
       "        vertical-align: top;\n",
       "    }\n",
       "\n",
       "    .dataframe thead th {\n",
       "        text-align: right;\n",
       "    }\n",
       "</style>\n",
       "<table border=\"1\" class=\"dataframe\">\n",
       "  <thead>\n",
       "    <tr style=\"text-align: right;\">\n",
       "      <th></th>\n",
       "      <th>TransactionID</th>\n",
       "      <th>Date</th>\n",
       "      <th>Count</th>\n",
       "      <th>Cost</th>\n",
       "      <th>Доставка</th>\n",
       "      <th>Плохой отзыв</th>\n",
       "      <th>Paid</th>\n",
       "      <th>Weight</th>\n",
       "      <th>Promo</th>\n",
       "      <th>AutoIssue</th>\n",
       "    </tr>\n",
       "  </thead>\n",
       "  <tbody>\n",
       "    <tr>\n",
       "      <th>0</th>\n",
       "      <td>1</td>\n",
       "      <td>2020-Aug-21 8:53:03</td>\n",
       "      <td>67</td>\n",
       "      <td>6325</td>\n",
       "      <td>0</td>\n",
       "      <td>0</td>\n",
       "      <td>2605,0</td>\n",
       "      <td>5481</td>\n",
       "      <td>0</td>\n",
       "      <td>0</td>\n",
       "    </tr>\n",
       "    <tr>\n",
       "      <th>1</th>\n",
       "      <td>2</td>\n",
       "      <td>2019-Sep-3 11:53:03</td>\n",
       "      <td>90</td>\n",
       "      <td>8307</td>\n",
       "      <td>1</td>\n",
       "      <td>1</td>\n",
       "      <td>8553,0</td>\n",
       "      <td>5956</td>\n",
       "      <td>1</td>\n",
       "      <td>1</td>\n",
       "    </tr>\n",
       "    <tr>\n",
       "      <th>2</th>\n",
       "      <td>3</td>\n",
       "      <td>2019-Oct-15 4:31:02</td>\n",
       "      <td>59</td>\n",
       "      <td>9819</td>\n",
       "      <td>0</td>\n",
       "      <td>1</td>\n",
       "      <td>9995,0</td>\n",
       "      <td>5170</td>\n",
       "      <td>1</td>\n",
       "      <td>0</td>\n",
       "    </tr>\n",
       "    <tr>\n",
       "      <th>3</th>\n",
       "      <td>4</td>\n",
       "      <td>2019-Aug-26 4:14:00</td>\n",
       "      <td>14</td>\n",
       "      <td>5351</td>\n",
       "      <td>1</td>\n",
       "      <td>1</td>\n",
       "      <td>12603,0</td>\n",
       "      <td>8826</td>\n",
       "      <td>0</td>\n",
       "      <td>0</td>\n",
       "    </tr>\n",
       "    <tr>\n",
       "      <th>4</th>\n",
       "      <td>5</td>\n",
       "      <td>2020-Aug-27 1:21:03</td>\n",
       "      <td>14</td>\n",
       "      <td>7779</td>\n",
       "      <td>1</td>\n",
       "      <td>0</td>\n",
       "      <td>5625,0</td>\n",
       "      <td>5357</td>\n",
       "      <td>0</td>\n",
       "      <td>0</td>\n",
       "    </tr>\n",
       "  </tbody>\n",
       "</table>\n",
       "</div>"
      ],
      "text/plain": [
       "   TransactionID                 Date  Count  Cost  Доставка  Плохой отзыв  \\\n",
       "0              1  2020-Aug-21 8:53:03     67  6325         0             0   \n",
       "1              2  2019-Sep-3 11:53:03     90  8307         1             1   \n",
       "2              3  2019-Oct-15 4:31:02     59  9819         0             1   \n",
       "3              4  2019-Aug-26 4:14:00     14  5351         1             1   \n",
       "4              5  2020-Aug-27 1:21:03     14  7779         1             0   \n",
       "\n",
       "      Paid  Weight  Promo  AutoIssue  \n",
       "0   2605,0    5481      0          0  \n",
       "1   8553,0    5956      1          1  \n",
       "2   9995,0    5170      1          0  \n",
       "3  12603,0    8826      0          0  \n",
       "4   5625,0    5357      0          0  "
      ]
     },
     "execution_count": 64,
     "metadata": {},
     "output_type": "execute_result"
    }
   ],
   "source": [
    "transactions = pd.read_csv('Транзакции.csv', sep='\\t', encoding='cp1251')\n",
    "transactions.head()"
   ]
  },
  {
   "cell_type": "code",
   "execution_count": 65,
   "id": "07f3d4eb",
   "metadata": {},
   "outputs": [
    {
     "data": {
      "text/plain": [
       "TransactionID    0\n",
       "Date             0\n",
       "Count            0\n",
       "Cost             0\n",
       "Доставка         0\n",
       "Плохой отзыв     0\n",
       "Paid             0\n",
       "Weight           0\n",
       "Promo            0\n",
       "AutoIssue        0\n",
       "dtype: int64"
      ]
     },
     "execution_count": 65,
     "metadata": {},
     "output_type": "execute_result"
    }
   ],
   "source": [
    "transactions.isnull().sum()"
   ]
  },
  {
   "cell_type": "code",
   "execution_count": 66,
   "id": "8a87e831",
   "metadata": {
    "scrolled": true
   },
   "outputs": [
    {
     "data": {
      "text/plain": [
       "TransactionID     int64\n",
       "Date             object\n",
       "Count             int64\n",
       "Cost              int64\n",
       "Доставка          int64\n",
       "Плохой отзыв      int64\n",
       "Paid             object\n",
       "Weight            int64\n",
       "Promo             int64\n",
       "AutoIssue         int64\n",
       "dtype: object"
      ]
     },
     "execution_count": 66,
     "metadata": {},
     "output_type": "execute_result"
    }
   ],
   "source": [
    "transactions.dtypes"
   ]
  },
  {
   "cell_type": "code",
   "execution_count": 67,
   "id": "adaac14f",
   "metadata": {},
   "outputs": [],
   "source": [
    "#Type float for 'Paid'\n",
    "float_func = lambda x: float(x.replace(',', '.'))\n",
    "transactions.Paid = transactions.Paid.map(float_func)"
   ]
  },
  {
   "cell_type": "code",
   "execution_count": 68,
   "id": "87a57779",
   "metadata": {},
   "outputs": [
    {
     "data": {
      "text/html": [
       "<div>\n",
       "<style scoped>\n",
       "    .dataframe tbody tr th:only-of-type {\n",
       "        vertical-align: middle;\n",
       "    }\n",
       "\n",
       "    .dataframe tbody tr th {\n",
       "        vertical-align: top;\n",
       "    }\n",
       "\n",
       "    .dataframe thead th {\n",
       "        text-align: right;\n",
       "    }\n",
       "</style>\n",
       "<table border=\"1\" class=\"dataframe\">\n",
       "  <thead>\n",
       "    <tr style=\"text-align: right;\">\n",
       "      <th></th>\n",
       "      <th>TransactionID</th>\n",
       "      <th>Date</th>\n",
       "      <th>Count</th>\n",
       "      <th>Cost</th>\n",
       "      <th>Доставка</th>\n",
       "      <th>Плохой отзыв</th>\n",
       "      <th>Paid</th>\n",
       "      <th>Weight</th>\n",
       "      <th>Promo</th>\n",
       "      <th>AutoIssue</th>\n",
       "    </tr>\n",
       "  </thead>\n",
       "  <tbody>\n",
       "    <tr>\n",
       "      <th>0</th>\n",
       "      <td>1</td>\n",
       "      <td>2020-Aug-21 8:53:03</td>\n",
       "      <td>67</td>\n",
       "      <td>6325</td>\n",
       "      <td>0</td>\n",
       "      <td>0</td>\n",
       "      <td>2605.0</td>\n",
       "      <td>5481</td>\n",
       "      <td>0</td>\n",
       "      <td>0</td>\n",
       "    </tr>\n",
       "    <tr>\n",
       "      <th>2</th>\n",
       "      <td>3</td>\n",
       "      <td>2019-Oct-15 4:31:02</td>\n",
       "      <td>59</td>\n",
       "      <td>9819</td>\n",
       "      <td>0</td>\n",
       "      <td>1</td>\n",
       "      <td>9995.0</td>\n",
       "      <td>5170</td>\n",
       "      <td>1</td>\n",
       "      <td>0</td>\n",
       "    </tr>\n",
       "    <tr>\n",
       "      <th>7</th>\n",
       "      <td>8</td>\n",
       "      <td>2020-Aug-23 13:34:03</td>\n",
       "      <td>45</td>\n",
       "      <td>6381</td>\n",
       "      <td>0</td>\n",
       "      <td>0</td>\n",
       "      <td>6251.0</td>\n",
       "      <td>9227</td>\n",
       "      <td>0</td>\n",
       "      <td>0</td>\n",
       "    </tr>\n",
       "    <tr>\n",
       "      <th>8</th>\n",
       "      <td>9</td>\n",
       "      <td>2020-Aug-31 16:57:02</td>\n",
       "      <td>31</td>\n",
       "      <td>8795</td>\n",
       "      <td>0</td>\n",
       "      <td>1</td>\n",
       "      <td>2047.0</td>\n",
       "      <td>6044</td>\n",
       "      <td>0</td>\n",
       "      <td>1</td>\n",
       "    </tr>\n",
       "    <tr>\n",
       "      <th>9</th>\n",
       "      <td>10</td>\n",
       "      <td>2020-Aug-29 9:18:01</td>\n",
       "      <td>41</td>\n",
       "      <td>4175</td>\n",
       "      <td>0</td>\n",
       "      <td>1</td>\n",
       "      <td>6300.0</td>\n",
       "      <td>7866</td>\n",
       "      <td>1</td>\n",
       "      <td>1</td>\n",
       "    </tr>\n",
       "  </tbody>\n",
       "</table>\n",
       "</div>"
      ],
      "text/plain": [
       "   TransactionID                  Date  Count  Cost  Доставка  Плохой отзыв  \\\n",
       "0              1   2020-Aug-21 8:53:03     67  6325         0             0   \n",
       "2              3   2019-Oct-15 4:31:02     59  9819         0             1   \n",
       "7              8  2020-Aug-23 13:34:03     45  6381         0             0   \n",
       "8              9  2020-Aug-31 16:57:02     31  8795         0             1   \n",
       "9             10   2020-Aug-29 9:18:01     41  4175         0             1   \n",
       "\n",
       "     Paid  Weight  Promo  AutoIssue  \n",
       "0  2605.0    5481      0          0  \n",
       "2  9995.0    5170      1          0  \n",
       "7  6251.0    9227      0          0  \n",
       "8  2047.0    6044      0          1  \n",
       "9  6300.0    7866      1          1  "
      ]
     },
     "execution_count": 68,
     "metadata": {},
     "output_type": "execute_result"
    }
   ],
   "source": [
    "transactions = transactions[transactions.Доставка == 0]\n",
    "transactions.head()"
   ]
  },
  {
   "cell_type": "code",
   "execution_count": 69,
   "id": "00beb14d",
   "metadata": {},
   "outputs": [],
   "source": [
    "first8_func = lambda x: x[:8]\n",
    "transactions.Date = transactions['Date'].map(first8_func)"
   ]
  },
  {
   "cell_type": "code",
   "execution_count": 70,
   "id": "8e3ed01d",
   "metadata": {
    "scrolled": true
   },
   "outputs": [
    {
     "data": {
      "text/html": [
       "<div>\n",
       "<style scoped>\n",
       "    .dataframe tbody tr th:only-of-type {\n",
       "        vertical-align: middle;\n",
       "    }\n",
       "\n",
       "    .dataframe tbody tr th {\n",
       "        vertical-align: top;\n",
       "    }\n",
       "\n",
       "    .dataframe thead th {\n",
       "        text-align: right;\n",
       "    }\n",
       "</style>\n",
       "<table border=\"1\" class=\"dataframe\">\n",
       "  <thead>\n",
       "    <tr style=\"text-align: right;\">\n",
       "      <th></th>\n",
       "      <th>TransactionID</th>\n",
       "      <th>Date</th>\n",
       "      <th>Count</th>\n",
       "      <th>Cost</th>\n",
       "      <th>Доставка</th>\n",
       "      <th>Плохой отзыв</th>\n",
       "      <th>Paid</th>\n",
       "      <th>Weight</th>\n",
       "      <th>Promo</th>\n",
       "      <th>AutoIssue</th>\n",
       "    </tr>\n",
       "  </thead>\n",
       "  <tbody>\n",
       "    <tr>\n",
       "      <th>0</th>\n",
       "      <td>1</td>\n",
       "      <td>2020-Aug</td>\n",
       "      <td>67</td>\n",
       "      <td>6325</td>\n",
       "      <td>0</td>\n",
       "      <td>0</td>\n",
       "      <td>2605.0</td>\n",
       "      <td>5481</td>\n",
       "      <td>0</td>\n",
       "      <td>0</td>\n",
       "    </tr>\n",
       "    <tr>\n",
       "      <th>2</th>\n",
       "      <td>3</td>\n",
       "      <td>2019-Oct</td>\n",
       "      <td>59</td>\n",
       "      <td>9819</td>\n",
       "      <td>0</td>\n",
       "      <td>1</td>\n",
       "      <td>9995.0</td>\n",
       "      <td>5170</td>\n",
       "      <td>1</td>\n",
       "      <td>0</td>\n",
       "    </tr>\n",
       "    <tr>\n",
       "      <th>7</th>\n",
       "      <td>8</td>\n",
       "      <td>2020-Aug</td>\n",
       "      <td>45</td>\n",
       "      <td>6381</td>\n",
       "      <td>0</td>\n",
       "      <td>0</td>\n",
       "      <td>6251.0</td>\n",
       "      <td>9227</td>\n",
       "      <td>0</td>\n",
       "      <td>0</td>\n",
       "    </tr>\n",
       "    <tr>\n",
       "      <th>8</th>\n",
       "      <td>9</td>\n",
       "      <td>2020-Aug</td>\n",
       "      <td>31</td>\n",
       "      <td>8795</td>\n",
       "      <td>0</td>\n",
       "      <td>1</td>\n",
       "      <td>2047.0</td>\n",
       "      <td>6044</td>\n",
       "      <td>0</td>\n",
       "      <td>1</td>\n",
       "    </tr>\n",
       "    <tr>\n",
       "      <th>9</th>\n",
       "      <td>10</td>\n",
       "      <td>2020-Aug</td>\n",
       "      <td>41</td>\n",
       "      <td>4175</td>\n",
       "      <td>0</td>\n",
       "      <td>1</td>\n",
       "      <td>6300.0</td>\n",
       "      <td>7866</td>\n",
       "      <td>1</td>\n",
       "      <td>1</td>\n",
       "    </tr>\n",
       "  </tbody>\n",
       "</table>\n",
       "</div>"
      ],
      "text/plain": [
       "   TransactionID      Date  Count  Cost  Доставка  Плохой отзыв    Paid  \\\n",
       "0              1  2020-Aug     67  6325         0             0  2605.0   \n",
       "2              3  2019-Oct     59  9819         0             1  9995.0   \n",
       "7              8  2020-Aug     45  6381         0             0  6251.0   \n",
       "8              9  2020-Aug     31  8795         0             1  2047.0   \n",
       "9             10  2020-Aug     41  4175         0             1  6300.0   \n",
       "\n",
       "   Weight  Promo  AutoIssue  \n",
       "0    5481      0          0  \n",
       "2    5170      1          0  \n",
       "7    9227      0          0  \n",
       "8    6044      0          1  \n",
       "9    7866      1          1  "
      ]
     },
     "execution_count": 70,
     "metadata": {},
     "output_type": "execute_result"
    }
   ],
   "source": [
    "transactions.head()"
   ]
  },
  {
   "cell_type": "code",
   "execution_count": 71,
   "id": "53021df3",
   "metadata": {},
   "outputs": [],
   "source": [
    "grouped = transactions.groupby(['Date', 'Promo'])"
   ]
  },
  {
   "cell_type": "code",
   "execution_count": 72,
   "id": "5f33261b",
   "metadata": {},
   "outputs": [],
   "source": [
    "final_df = grouped[['Count', 'Плохой отзыв', 'Cost', 'Paid']].sum()"
   ]
  },
  {
   "cell_type": "code",
   "execution_count": 73,
   "id": "edbb2585",
   "metadata": {},
   "outputs": [
    {
     "data": {
      "text/html": [
       "<div>\n",
       "<style scoped>\n",
       "    .dataframe tbody tr th:only-of-type {\n",
       "        vertical-align: middle;\n",
       "    }\n",
       "\n",
       "    .dataframe tbody tr th {\n",
       "        vertical-align: top;\n",
       "    }\n",
       "\n",
       "    .dataframe thead th {\n",
       "        text-align: right;\n",
       "    }\n",
       "</style>\n",
       "<table border=\"1\" class=\"dataframe\">\n",
       "  <thead>\n",
       "    <tr style=\"text-align: right;\">\n",
       "      <th></th>\n",
       "      <th></th>\n",
       "      <th>Count</th>\n",
       "      <th>Плохой отзыв</th>\n",
       "      <th>Cost</th>\n",
       "      <th>Paid</th>\n",
       "    </tr>\n",
       "    <tr>\n",
       "      <th>Date</th>\n",
       "      <th>Promo</th>\n",
       "      <th></th>\n",
       "      <th></th>\n",
       "      <th></th>\n",
       "      <th></th>\n",
       "    </tr>\n",
       "  </thead>\n",
       "  <tbody>\n",
       "    <tr>\n",
       "      <th rowspan=\"2\" valign=\"top\">2019-Apr</th>\n",
       "      <th>0</th>\n",
       "      <td>8932</td>\n",
       "      <td>88</td>\n",
       "      <td>1234569</td>\n",
       "      <td>1330813.00</td>\n",
       "    </tr>\n",
       "    <tr>\n",
       "      <th>1</th>\n",
       "      <td>7115</td>\n",
       "      <td>64</td>\n",
       "      <td>942324</td>\n",
       "      <td>1003110.00</td>\n",
       "    </tr>\n",
       "    <tr>\n",
       "      <th rowspan=\"2\" valign=\"top\">2019-Aug</th>\n",
       "      <th>0</th>\n",
       "      <td>9756</td>\n",
       "      <td>82</td>\n",
       "      <td>1268800</td>\n",
       "      <td>1339810.34</td>\n",
       "    </tr>\n",
       "    <tr>\n",
       "      <th>1</th>\n",
       "      <td>7508</td>\n",
       "      <td>84</td>\n",
       "      <td>1032339</td>\n",
       "      <td>1127964.00</td>\n",
       "    </tr>\n",
       "    <tr>\n",
       "      <th>2019-Dec</th>\n",
       "      <th>0</th>\n",
       "      <td>11602</td>\n",
       "      <td>113</td>\n",
       "      <td>1603016</td>\n",
       "      <td>1735341.00</td>\n",
       "    </tr>\n",
       "  </tbody>\n",
       "</table>\n",
       "</div>"
      ],
      "text/plain": [
       "                Count  Плохой отзыв     Cost        Paid\n",
       "Date     Promo                                          \n",
       "2019-Apr 0       8932            88  1234569  1330813.00\n",
       "         1       7115            64   942324  1003110.00\n",
       "2019-Aug 0       9756            82  1268800  1339810.34\n",
       "         1       7508            84  1032339  1127964.00\n",
       "2019-Dec 0      11602           113  1603016  1735341.00"
      ]
     },
     "execution_count": 73,
     "metadata": {},
     "output_type": "execute_result"
    }
   ],
   "source": [
    "final_df.head()"
   ]
  },
  {
   "cell_type": "code",
   "execution_count": 74,
   "id": "07bc8e1d",
   "metadata": {},
   "outputs": [],
   "source": [
    "final_df['Всего_отзывов'] = grouped['Плохой отзыв'].count()"
   ]
  },
  {
   "cell_type": "code",
   "execution_count": 75,
   "id": "45eade37",
   "metadata": {},
   "outputs": [],
   "source": [
    "final_df['Плохих отзывов, %'] = final_df['Плохой отзыв']/final_df['Всего_отзывов']*100"
   ]
  },
  {
   "cell_type": "code",
   "execution_count": 76,
   "id": "5b6cb756",
   "metadata": {},
   "outputs": [],
   "source": [
    "final_df = final_df.drop(['Плохой отзыв', 'Всего_отзывов'], axis = 1)"
   ]
  },
  {
   "cell_type": "code",
   "execution_count": 77,
   "id": "be387be3",
   "metadata": {},
   "outputs": [],
   "source": [
    "final_df['Доходность, %'] = (final_df.Cost - final_df.Paid)/final_df.Cost*100"
   ]
  },
  {
   "cell_type": "code",
   "execution_count": 78,
   "id": "c69490eb",
   "metadata": {},
   "outputs": [],
   "source": [
    "final_df = final_df.drop(['Cost', 'Paid'], axis = 1)"
   ]
  },
  {
   "cell_type": "code",
   "execution_count": 79,
   "id": "3f393f35",
   "metadata": {},
   "outputs": [],
   "source": [
    "final_df = final_df.reset_index()"
   ]
  },
  {
   "cell_type": "code",
   "execution_count": 80,
   "id": "71ae8c51",
   "metadata": {},
   "outputs": [],
   "source": [
    "final_df = final_df.rename(columns = {'Date':'Месяц', 'Promo':'Введен промокод',\n",
    "                                 'Count':'Кол-во транзакций'})"
   ]
  },
  {
   "cell_type": "code",
   "execution_count": 81,
   "id": "d33722b8",
   "metadata": {},
   "outputs": [],
   "source": [
    "round_func = lambda x: round(x, 2)\n",
    "final_df['Плохих отзывов, %'] = final_df['Плохих отзывов, %'].map(round_func)\n",
    "final_df['Доходность, %'] = final_df['Доходность, %'].map(round_func)"
   ]
  },
  {
   "cell_type": "code",
   "execution_count": 82,
   "id": "299b2493",
   "metadata": {},
   "outputs": [
    {
     "data": {
      "text/html": [
       "<div>\n",
       "<style scoped>\n",
       "    .dataframe tbody tr th:only-of-type {\n",
       "        vertical-align: middle;\n",
       "    }\n",
       "\n",
       "    .dataframe tbody tr th {\n",
       "        vertical-align: top;\n",
       "    }\n",
       "\n",
       "    .dataframe thead th {\n",
       "        text-align: right;\n",
       "    }\n",
       "</style>\n",
       "<table border=\"1\" class=\"dataframe\">\n",
       "  <thead>\n",
       "    <tr style=\"text-align: right;\">\n",
       "      <th></th>\n",
       "      <th>Месяц</th>\n",
       "      <th>Введен промокод</th>\n",
       "      <th>Кол-во транзакций</th>\n",
       "      <th>Плохих отзывов, %</th>\n",
       "      <th>Доходность, %</th>\n",
       "    </tr>\n",
       "  </thead>\n",
       "  <tbody>\n",
       "    <tr>\n",
       "      <th>0</th>\n",
       "      <td>2019-Apr</td>\n",
       "      <td>0</td>\n",
       "      <td>8932</td>\n",
       "      <td>49.72</td>\n",
       "      <td>-7.80</td>\n",
       "    </tr>\n",
       "    <tr>\n",
       "      <th>1</th>\n",
       "      <td>2019-Apr</td>\n",
       "      <td>1</td>\n",
       "      <td>7115</td>\n",
       "      <td>46.04</td>\n",
       "      <td>-6.45</td>\n",
       "    </tr>\n",
       "    <tr>\n",
       "      <th>2</th>\n",
       "      <td>2019-Aug</td>\n",
       "      <td>0</td>\n",
       "      <td>9756</td>\n",
       "      <td>44.81</td>\n",
       "      <td>-5.60</td>\n",
       "    </tr>\n",
       "    <tr>\n",
       "      <th>3</th>\n",
       "      <td>2019-Aug</td>\n",
       "      <td>1</td>\n",
       "      <td>7508</td>\n",
       "      <td>57.14</td>\n",
       "      <td>-9.26</td>\n",
       "    </tr>\n",
       "    <tr>\n",
       "      <th>4</th>\n",
       "      <td>2019-Dec</td>\n",
       "      <td>0</td>\n",
       "      <td>11602</td>\n",
       "      <td>50.22</td>\n",
       "      <td>-8.25</td>\n",
       "    </tr>\n",
       "  </tbody>\n",
       "</table>\n",
       "</div>"
      ],
      "text/plain": [
       "      Месяц  Введен промокод  Кол-во транзакций  Плохих отзывов, %  \\\n",
       "0  2019-Apr                0               8932              49.72   \n",
       "1  2019-Apr                1               7115              46.04   \n",
       "2  2019-Aug                0               9756              44.81   \n",
       "3  2019-Aug                1               7508              57.14   \n",
       "4  2019-Dec                0              11602              50.22   \n",
       "\n",
       "   Доходность, %  \n",
       "0          -7.80  \n",
       "1          -6.45  \n",
       "2          -5.60  \n",
       "3          -9.26  \n",
       "4          -8.25  "
      ]
     },
     "execution_count": 82,
     "metadata": {},
     "output_type": "execute_result"
    }
   ],
   "source": [
    "final_df.head()"
   ]
  },
  {
   "cell_type": "code",
   "execution_count": 88,
   "id": "efaad623",
   "metadata": {},
   "outputs": [],
   "source": [
    "final_df.to_excel('1. Кофе/out.xlsx', index = False, encoding='cp1251')"
   ]
  }
 ],
 "metadata": {
  "kernelspec": {
   "display_name": "Python 3",
   "language": "python",
   "name": "python3"
  },
  "language_info": {
   "codemirror_mode": {
    "name": "ipython",
    "version": 3
   },
   "file_extension": ".py",
   "mimetype": "text/x-python",
   "name": "python",
   "nbconvert_exporter": "python",
   "pygments_lexer": "ipython3",
   "version": "3.8.3"
  }
 },
 "nbformat": 4,
 "nbformat_minor": 5
}
