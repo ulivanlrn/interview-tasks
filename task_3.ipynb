{
 "cells": [
  {
   "cell_type": "code",
   "execution_count": 50,
   "id": "e1a6ef85",
   "metadata": {},
   "outputs": [],
   "source": [
    "%matplotlib inline\n",
    "import matplotlib.pyplot as plt\n",
    "import pandas as pd\n",
    "import numpy as np"
   ]
  },
  {
   "cell_type": "code",
   "execution_count": 62,
   "id": "2385b997",
   "metadata": {},
   "outputs": [],
   "source": [
    "plt.rc('figure', figsize=(10, 6))"
   ]
  },
  {
   "cell_type": "code",
   "execution_count": 35,
   "id": "56631651",
   "metadata": {},
   "outputs": [
    {
     "data": {
      "text/html": [
       "<div>\n",
       "<style scoped>\n",
       "    .dataframe tbody tr th:only-of-type {\n",
       "        vertical-align: middle;\n",
       "    }\n",
       "\n",
       "    .dataframe tbody tr th {\n",
       "        vertical-align: top;\n",
       "    }\n",
       "\n",
       "    .dataframe thead th {\n",
       "        text-align: right;\n",
       "    }\n",
       "</style>\n",
       "<table border=\"1\" class=\"dataframe\">\n",
       "  <thead>\n",
       "    <tr style=\"text-align: right;\">\n",
       "      <th></th>\n",
       "      <th>Возрастная группа</th>\n",
       "      <th>Общая оценка</th>\n",
       "    </tr>\n",
       "  </thead>\n",
       "  <tbody>\n",
       "    <tr>\n",
       "      <th>0</th>\n",
       "      <td>65 и страше</td>\n",
       "      <td>38.454803</td>\n",
       "    </tr>\n",
       "    <tr>\n",
       "      <th>1</th>\n",
       "      <td>55-64</td>\n",
       "      <td>17.669677</td>\n",
       "    </tr>\n",
       "    <tr>\n",
       "      <th>2</th>\n",
       "      <td>65 и страше</td>\n",
       "      <td>31.704307</td>\n",
       "    </tr>\n",
       "    <tr>\n",
       "      <th>3</th>\n",
       "      <td>65 и страше</td>\n",
       "      <td>25.924460</td>\n",
       "    </tr>\n",
       "    <tr>\n",
       "      <th>4</th>\n",
       "      <td>До 25</td>\n",
       "      <td>30.450007</td>\n",
       "    </tr>\n",
       "    <tr>\n",
       "      <th>5</th>\n",
       "      <td>До 25</td>\n",
       "      <td>35.609909</td>\n",
       "    </tr>\n",
       "    <tr>\n",
       "      <th>6</th>\n",
       "      <td>65 и страше</td>\n",
       "      <td>29.677695</td>\n",
       "    </tr>\n",
       "    <tr>\n",
       "      <th>7</th>\n",
       "      <td>25-34</td>\n",
       "      <td>38.167369</td>\n",
       "    </tr>\n",
       "    <tr>\n",
       "      <th>8</th>\n",
       "      <td>65 и страше</td>\n",
       "      <td>23.509700</td>\n",
       "    </tr>\n",
       "    <tr>\n",
       "      <th>9</th>\n",
       "      <td>45-54</td>\n",
       "      <td>26.051029</td>\n",
       "    </tr>\n",
       "  </tbody>\n",
       "</table>\n",
       "</div>"
      ],
      "text/plain": [
       "  Возрастная группа  Общая оценка\n",
       "0       65 и страше     38.454803\n",
       "1             55-64     17.669677\n",
       "2       65 и страше     31.704307\n",
       "3       65 и страше     25.924460\n",
       "4             До 25     30.450007\n",
       "5             До 25     35.609909\n",
       "6       65 и страше     29.677695\n",
       "7             25-34     38.167369\n",
       "8       65 и страше     23.509700\n",
       "9             45-54     26.051029"
      ]
     },
     "execution_count": 35,
     "metadata": {},
     "output_type": "execute_result"
    }
   ],
   "source": [
    "data = pd.read_excel('3. Новый плеер\\данные.xlsx', engine = 'openpyxl')\n",
    "data.head(10)"
   ]
  },
  {
   "cell_type": "code",
   "execution_count": 36,
   "id": "99ff50ac",
   "metadata": {},
   "outputs": [],
   "source": [
    "data = data.rename(columns = {'Возрастная группа':'age', 'Общая оценка':'score'})"
   ]
  },
  {
   "cell_type": "code",
   "execution_count": 37,
   "id": "15d5fde5",
   "metadata": {},
   "outputs": [],
   "source": [
    "data_mean = data.groupby('age').mean()"
   ]
  },
  {
   "cell_type": "code",
   "execution_count": 38,
   "id": "5159c64f",
   "metadata": {},
   "outputs": [],
   "source": [
    "data_mean = data_mean.rename({'До 25':'0-25'})"
   ]
  },
  {
   "cell_type": "code",
   "execution_count": 46,
   "id": "086385d4",
   "metadata": {},
   "outputs": [],
   "source": [
    "data_mean = data_mean.sort_index()"
   ]
  },
  {
   "cell_type": "code",
   "execution_count": 70,
   "id": "46211158",
   "metadata": {},
   "outputs": [
    {
     "data": {
      "text/plain": [
       "<AxesSubplot:xlabel='age'>"
      ]
     },
     "execution_count": 70,
     "metadata": {},
     "output_type": "execute_result"
    },
    {
     "data": {
      "image/png": "[encoded data removed]",
      "text/plain": [
       "<Figure size 720x432 with 1 Axes>"
      ]
     },
     "metadata": {
      "needs_background": "light"
     },
     "output_type": "display_data"
    }
   ],
   "source": [
    "data_mean.plot.bar(rot=0, fontsize = 12)"
   ]
  },
  {
   "cell_type": "markdown",
   "id": "3a1ecf10",
   "metadata": {},
   "source": [
    "### Target audience: people in the age group 45-54, since on average their rating is higher than representatives of other age groups.\n",
    "### The younger or older is the respondent, the lower his/her score is. This means that the hypothesis about the dependence of user ratings on age is correct. \n",
    "### Recommendations: development of a modern design, making the product simpler and more understandable to use."
   ]
  }
 ],
 "metadata": {
  "kernelspec": {
   "display_name": "Python 3",
   "language": "python",
   "name": "python3"
  },
  "language_info": {
   "codemirror_mode": {
    "name": "ipython",
    "version": 3
   },
   "file_extension": ".py",
   "mimetype": "text/x-python",
   "name": "python",
   "nbconvert_exporter": "python",
   "pygments_lexer": "ipython3",
   "version": "3.8.3"
  }
 },
 "nbformat": 4,
 "nbformat_minor": 5
}
